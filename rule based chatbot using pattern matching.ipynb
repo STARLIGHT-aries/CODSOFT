{
 "cells": [
  {
   "cell_type": "code",
   "execution_count": 2,
   "metadata": {},
   "outputs": [
    {
     "name": "stdout",
     "output_type": "stream",
     "text": [
      "🐾 Animal Adoption & Welfare Chatbot started. Type your message or 'exit' to stop.\n"
     ]
    },
    {
     "name": "stdout",
     "output_type": "stream",
     "text": [
      "Chatbot: Hello! Welcome to the Animal Adoption & Welfare Chatbot. How can I assist you?\n",
      "Chatbot: To adopt a pet, visit our adoption center or check our website for available pets.\n",
      "Chatbot: To adopt a pet, visit our adoption center or check our website for available pets.\n",
      "Chatbot: I'm sorry, I didn't understand that. Can you please rephrase?\n",
      "Chatbot: If you find an injured animal, please call our emergency helpline at 123-456-7890.\n",
      "Chatbot: I'm sorry, I didn't understand that. Can you please rephrase?\n",
      "Chatbot: To adopt a pet, you need to fill out an application, meet the pet, and complete an adoption agreement.\n",
      "Chatbot: Goodbye! Thank you for supporting animal welfare. Have a great day! 🐶🐱🐰\n",
      "Chatbot: Thank you for visiting! Have a great day! 🐶🐱🐰\n"
     ]
    }
   ],
   "source": [
    "import re  \n",
    "\n",
    "def animal_welfare_chatbot(user_input):\n",
    "    \"\"\"\n",
    "    An enhanced chatbot using pattern matching (Regex) for an animal adoption and welfare system.\n",
    "    It recognizes user queries based on predefined patterns and provides relevant responses.\n",
    "    \"\"\"\n",
    "    user_input = user_input.lower()  \n",
    "\n",
    "    patterns_responses = [\n",
    "       \n",
    "        (r\"\\bhello\\b|\\bhi\\b|\\bhey\\b\", \"Hello! Welcome to the Animal Adoption & Welfare Chatbot. How can I assist you?\"),\n",
    "        \n",
    "       \n",
    "        (r\"adopt.*pet\", \"To adopt a pet, visit our adoption center or check our website for available pets.\"),\n",
    "        (r\"how.*adopt\", \"To adopt a pet, you need to fill out an application, meet the pet, and complete an adoption agreement.\"),\n",
    "        (r\"available.*animals\", \"Currently, we have dogs, cats, and rabbits available for adoption.\"),\n",
    "        (r\"what pets.*available\", \"We have a variety of pets like dogs, cats, and rabbits. Would you like details on any specific pet?\"),\n",
    "        \n",
    "        \n",
    "        (r\"how.*take care.*dog\", \"Taking care of a dog involves regular feeding, exercise, grooming, and vet checkups.\"),\n",
    "        (r\"how.*take care.*cat\", \"Cats need proper nutrition, a clean litter box, playtime, and regular vet visits.\"),\n",
    "        (r\"what.*food.*dog\", \"Dogs need a balanced diet. You can feed them high-quality kibble or vet-approved homemade meals.\"),\n",
    "        \n",
    "       \n",
    "        (r\"how.*volunteer\", \"We welcome volunteers! You can help by fostering pets, assisting at events, or spreading awareness.\"),\n",
    "        (r\"how.*donate\", \"You can donate through our website or visit our center to contribute food, toys, or medical supplies.\"),\n",
    "        \n",
    "        \n",
    "        (r\"report.*injured\", \"If you find an injured animal, please call our emergency helpline at 123-456-7890.\"),\n",
    "        (r\"what to do.*injured dog\", \"Try to keep the animal calm and safe. Call our emergency line at 123-456-7890.\"),\n",
    "        \n",
    "       \n",
    "        (r\"where.*location|adoption center\", \"Our adoption center is located at XYZ Street, City. You’re welcome to visit!\"),\n",
    "        (r\"what.*timing\", \"Our center is open from 10 AM to 6 PM every day.\"),\n",
    "        \n",
    "       \n",
    "        (r\"adoption.*fee|cost|price\", \"Adoption fees vary by pet type. The fee covers vaccinations, microchipping, and medical care.\"),\n",
    "        (r\"what.*adoption process\", \"Our adoption process includes application review, a meet-and-greet session, and paperwork.\"),\n",
    "        \n",
    "        \n",
    "        (r\"\\bbye\\b|\\bgoodbye\\b\", \"Goodbye! Thank you for supporting animal welfare. Have a great day! 🐶🐱🐰\"),\n",
    "    ]\n",
    "\n",
    "   \n",
    "    for pattern, response in patterns_responses:\n",
    "        if re.search(pattern, user_input): \n",
    "            return response\n",
    "\n",
    "   \n",
    "    return \"I'm sorry, I didn't understand that. Can you please rephrase?\"\n",
    "\n",
    "\n",
    "print(\"🐾 Animal Adoption & Welfare Chatbot started. Type your message or 'exit' to stop.\")\n",
    "\n",
    "while True:\n",
    "    user_input = input(\"You: \") \n",
    "    if user_input.lower() == \"exit\":  \n",
    "        print(\"Chatbot: Thank you for visiting! Have a great day! 🐶🐱🐰\")\n",
    "        break\n",
    "    response = animal_welfare_chatbot(user_input) \n",
    "    print(\"Chatbot:\", response)\n",
    "\n",
    "\n"
   ]
  }
 ],
 "metadata": {
  "kernelspec": {
   "display_name": "Python 3",
   "language": "python",
   "name": "python3"
  },
  "language_info": {
   "codemirror_mode": {
    "name": "ipython",
    "version": 3
   },
   "file_extension": ".py",
   "mimetype": "text/x-python",
   "name": "python",
   "nbconvert_exporter": "python",
   "pygments_lexer": "ipython3",
   "version": "3.11.0"
  }
 },
 "nbformat": 4,
 "nbformat_minor": 2
}

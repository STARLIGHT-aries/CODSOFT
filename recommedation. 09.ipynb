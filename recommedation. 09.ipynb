{
 "cells": [
  {
   "cell_type": "code",
   "execution_count": 3,
   "metadata": {},
   "outputs": [],
   "source": [
    "import pandas as pd\n",
    "from sklearn.feature_extraction.text import TfidfVectorizer\n",
    "from sklearn.metrics.pairwise import cosine_similarity"
   ]
  },
  {
   "cell_type": "code",
   "execution_count": 4,
   "metadata": {},
   "outputs": [],
   "source": [
    "movies = {\n",
    "    \"Movie_ID\": [1, 2, 3, 4, 5],\n",
    "    \"Title\": [\n",
    "        \"Inception\",\n",
    "        \"Interstellar\",\n",
    "        \"The Dark Knight\",\n",
    "        \"The Matrix\",\n",
    "        \"The Prestige\"\n",
    "    ],\n",
    "    \"Description\": [\n",
    "        \"A thief who enters the dreams of others to steal secrets.\",\n",
    "        \"A team of astronauts travels through a wormhole in search of a new home for humanity.\",\n",
    "        \"Batman faces the Joker, a criminal mastermind who causes chaos in Gotham.\",\n",
    "        \"A hacker discovers the true nature of reality and fights against AI-controlled machines.\",\n",
    "        \"Two magicians compete to create the best illusion, leading to deadly consequences.\"\n",
    "    ]\n",
    "}"
   ]
  },
  {
   "cell_type": "code",
   "execution_count": 5,
   "metadata": {},
   "outputs": [],
   "source": [
    "\n",
    "\n",
    "# Convert to DataFrame\n",
    "df = pd.DataFrame(movies)\n",
    "\n",
    "# Step 1: Convert text descriptions into numerical format using TF-IDF\n",
    "tfidf = TfidfVectorizer(stop_words='english')\n",
    "tfidf_matrix = tfidf.fit_transform(df[\"Description\"])\n",
    "\n",
    "# Step 2: Compute cosine similarity\n",
    "cosine_sim = cosine_similarity(tfidf_matrix, tfidf_matrix)"
   ]
  },
  {
   "cell_type": "code",
   "execution_count": 6,
   "metadata": {},
   "outputs": [
    {
     "name": "stdout",
     "output_type": "stream",
     "text": [
      "Movies similar to 'Inception':\n",
      " 1       Interstellar\n",
      "2    The Dark Knight\n",
      "3         The Matrix\n",
      "Name: Title, dtype: object\n"
     ]
    }
   ],
   "source": [
    "def recommend_movies(title, df, cosine_sim):\n",
    "    # Get index of the given movie title\n",
    "    idx = df[df[\"Title\"] == title].index[0]\n",
    "\n",
    "    # Get similarity scores for all movies\n",
    "    sim_scores = list(enumerate(cosine_sim[idx]))\n",
    "\n",
    "    # Sort movies based on similarity score\n",
    "    sim_scores = sorted(sim_scores, key=lambda x: x[1], reverse=True)\n",
    "\n",
    "    # Get top 3 similar movies (excluding the given movie itself)\n",
    "    sim_scores = sim_scores[1:4]\n",
    "\n",
    "    # Get movie indices\n",
    "    movie_indices = [i[0] for i in sim_scores]\n",
    "\n",
    "    # Return recommended movie titles\n",
    "    return df[\"Title\"].iloc[movie_indices]\n",
    "\n",
    "# Example usage:\n",
    "movie_title = \"Inception\"\n",
    "recommended_movies = recommend_movies(movie_title, df, cosine_sim)\n",
    "\n",
    "# Print recommendations\n",
    "print(f\"Movies similar to '{movie_title}':\\n\", recommended_movies)"
   ]
  }
 ],
 "metadata": {
  "kernelspec": {
   "display_name": "Python 3",
   "language": "python",
   "name": "python3"
  },
  "language_info": {
   "codemirror_mode": {
    "name": "ipython",
    "version": 3
   },
   "file_extension": ".py",
   "mimetype": "text/x-python",
   "name": "python",
   "nbconvert_exporter": "python",
   "pygments_lexer": "ipython3",
   "version": "3.11.0"
  }
 },
 "nbformat": 4,
 "nbformat_minor": 2
}
